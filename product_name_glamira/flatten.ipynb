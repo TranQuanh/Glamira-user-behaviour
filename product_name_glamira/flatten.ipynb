{
 "cells": [
  {
   "cell_type": "code",
   "execution_count": 1,
   "metadata": {},
   "outputs": [],
   "source": [
    "import json\n",
    "import IP2Location\n",
    "database = IP2Location.IP2Location(r\"D:\\project_glamira\\IP2Location-Python-master\\data\\IP2LOCATION-LITE-DB11.BIN\")"
   ]
  },
  {
   "cell_type": "code",
   "execution_count": 3,
   "metadata": {},
   "outputs": [],
   "source": [
    "with open('test.json', 'r', encoding='utf-8') as file:\n",
    "    data = json.load(file)\n",
    "data_file_path = 'json_update.jsonl'\n",
    "with open(data_file_path,'w',encoding = 'utf-8') as f:\n",
    "    f.write('\\n'.join(json.dumps(row) for row in data.values()))"
   ]
  },
  {
   "cell_type": "code",
   "execution_count": 2,
   "metadata": {},
   "outputs": [
    {
     "name": "stdout",
     "output_type": "stream",
     "text": [
      "Country Code          : AU\n",
      "Country Name          : Australia\n",
      "Region Name           : Victoria\n",
      "City Name             : Melbourne\n",
      "ISP Name              : This parameter is unavailable in selected .BIN data file. Please upgrade data file.\n",
      "Latitude              : -37.814007\n",
      "Longitude             : 144.963165\n",
      "Domain Name           : This parameter is unavailable in selected .BIN data file. Please upgrade data file.\n",
      "ZIP Code              : 3000\n",
      "Time Zone             : +10:00\n",
      "Net Speed             : This parameter is unavailable in selected .BIN data file. Please upgrade data file.\n",
      "Area Code             : This parameter is unavailable in selected .BIN data file. Please upgrade data file.\n",
      "IDD Code              : This parameter is unavailable in selected .BIN data file. Please upgrade data file.\n",
      "Weather Station Code  : This parameter is unavailable in selected .BIN data file. Please upgrade data file.\n",
      "Weather Station Name  : This parameter is unavailable in selected .BIN data file. Please upgrade data file.\n",
      "MCC                   : This parameter is unavailable in selected .BIN data file. Please upgrade data file.\n",
      "MNC                   : This parameter is unavailable in selected .BIN data file. Please upgrade data file.\n",
      "Mobile Carrier        : This parameter is unavailable in selected .BIN data file. Please upgrade data file.\n",
      "Elevation             : This parameter is unavailable in selected .BIN data file. Please upgrade data file.\n",
      "Usage Type            : This parameter is unavailable in selected .BIN data file. Please upgrade data file.\n",
      "Address Type          : This parameter is unavailable in selected .BIN data file. Please upgrade data file.\n",
      "Category              : This parameter is unavailable in selected .BIN data file. Please upgrade data file.\n",
      "District              : This parameter is unavailable in selected .BIN data file. Please upgrade data file.\n",
      "ASN                   : This parameter is unavailable in selected .BIN data file. Please upgrade data file.\n",
      "AS                    : This parameter is unavailable in selected .BIN data file. Please upgrade data file.\n"
     ]
    }
   ],
   "source": [
    "rec = database.get_all(\"124.189.45.215\")\n",
    "\n",
    "print(\"Country Code          : \" + rec.country_short)\n",
    "print(\"Country Name          : \" + rec.country_long)\n",
    "print(\"Region Name           : \" + rec.region)\n",
    "print(\"City Name             : \" + rec.city)\n",
    "print(\"ISP Name              : \" + rec.isp)\n",
    "print(\"Latitude              : \" + rec.latitude)\n",
    "print(\"Longitude             : \" + rec.longitude)\n",
    "print(\"Domain Name           : \" + rec.domain)\n",
    "print(\"ZIP Code              : \" + rec.zipcode)\n",
    "print(\"Time Zone             : \" + rec.timezone)\n",
    "print(\"Net Speed             : \" + rec.netspeed)\n",
    "print(\"Area Code             : \" + rec.idd_code)\n",
    "print(\"IDD Code              : \" + rec.area_code)\n",
    "print(\"Weather Station Code  : \" + rec.weather_code)\n",
    "print(\"Weather Station Name  : \" + rec.weather_name)\n",
    "print(\"MCC                   : \" + rec.mcc)\n",
    "print(\"MNC                   : \" + rec.mnc)\n",
    "print(\"Mobile Carrier        : \" + rec.mobile_brand)\n",
    "print(\"Elevation             : \" + rec.elevation)\n",
    "print(\"Usage Type            : \" + rec.usage_type)\n",
    "print(\"Address Type          : \" + rec.address_type)\n",
    "print(\"Category              : \" + rec.category)\n",
    "print(\"District              : \" + rec.district)\n",
    "print(\"ASN                   : \" + rec.asn)\n",
    "print(\"AS                    : \" + rec.as_name)"
   ]
  }
 ],
 "metadata": {
  "kernelspec": {
   "display_name": "my_venv",
   "language": "python",
   "name": "python3"
  },
  "language_info": {
   "codemirror_mode": {
    "name": "ipython",
    "version": 3
   },
   "file_extension": ".py",
   "mimetype": "text/x-python",
   "name": "python",
   "nbconvert_exporter": "python",
   "pygments_lexer": "ipython3",
   "version": "3.12.3"
  }
 },
 "nbformat": 4,
 "nbformat_minor": 2
}
