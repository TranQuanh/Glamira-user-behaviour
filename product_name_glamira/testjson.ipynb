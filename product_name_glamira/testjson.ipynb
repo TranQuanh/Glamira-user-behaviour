{
 "cells": [
  {
   "cell_type": "code",
   "execution_count": 17,
   "metadata": {},
   "outputs": [],
   "source": [
    "import json\n",
    "import os\n",
    "\n",
    "def update_json_all_file(file_path, new_data):\n",
    "    # Kiểm tra xem tệp có tồn tại không\n",
    "    if os.path.exists(file_path):\n",
    "        # Đọc dữ liệu hiện có từ tệp\n",
    "        with open(file_path, 'r', encoding='utf-8') as file:\n",
    "            try:\n",
    "                existing_data = json.load(file)\n",
    "            except json.JSONDecodeError:\n",
    "                existing_data = {}\n",
    "    else:\n",
    "        existing_data = {}\n",
    "\n",
    "    # Kiểm tra nếu dữ liệu hiện có không phải là dict, biến nó thành dict\n",
    "    if not isinstance(existing_data, dict):\n",
    "        existing_data = {}\n",
    "        \n",
    "    for key,value in new_data.items():\n",
    "        if key  in existing_data:\n",
    "            existing_data[key].update(value)\n",
    "        else:\n",
    "            existing_data.update(new_data)    \n",
    "    \n",
    "\n",
    "    # Ghi dữ liệu đã cập nhật trở lại tệp\n",
    "    with open(file_path, 'w', encoding='utf-8') as file:\n",
    "        json.dump(existing_data, file, ensure_ascii=False, indent=4)\n"
   ]
  },
  {
   "cell_type": "code",
   "execution_count": 25,
   "metadata": {},
   "outputs": [],
   "source": [
    "def update_json_product_name_file(file_path, new_data):\n",
    "    # Kiểm tra xem tệp có tồn tại không\n",
    "    if os.path.exists(file_path):\n",
    "        # Đọc dữ liệu hiện có từ tệp\n",
    "        with open(file_path, 'r', encoding='utf-8') as file:\n",
    "            try:\n",
    "                existing_data = json.load(file)\n",
    "            except json.JSONDecodeError:\n",
    "                existing_data = {}\n",
    "    else:\n",
    "        existing_data = {}\n",
    "\n",
    "    # Kiểm tra nếu dữ liệu hiện có không phải là dict, biến nó thành dict\n",
    "    if not isinstance(existing_data, dict):\n",
    "        existing_data = {}\n",
    "\n",
    "    existing_data.update(new_data)    \n",
    "    \n",
    "\n",
    "    # Ghi dữ liệu đã cập nhật trở lại tệp\n",
    "    with open(file_path, 'w', encoding='utf-8') as file:\n",
    "        json.dump(existing_data, file, ensure_ascii=False, indent=4)\n"
   ]
  },
  {
   "cell_type": "code",
   "execution_count": 26,
   "metadata": {},
   "outputs": [],
   "source": [
    "products_dict={}\n",
    "# product_name = \"babychill\"\n",
    "# short_description= \"halsd\"\n",
    "# product_details ={\"sdda\":\"dfg\"}\n",
    "# if product_name not in products_dict:\n",
    "#     products_dict[product_name] = {short_description: product_details}\n",
    "# else:\n",
    "#     products_dict[product_name][short_description] = product_details\n",
    "# product_name = \"babychill\"\n",
    "# short_description= \"asala\"\n",
    "# product_details ={\"sdda\":\"dfg\"}\n",
    "# if product_name not in products_dict:\n",
    "#     products_dict[product_name] = {short_description: product_details}\n",
    "# else:\n",
    "#     products_dict[product_name][short_description] = product_details\n",
    "# product_name = \"moderate\"\n",
    "# short_description= \"asala\"\n",
    "# product_details ={\"sdda\":\"dfg\"}\n",
    "# if product_name not in products_dict:\n",
    "#     products_dict[product_name] = {short_description: product_details}\n",
    "# else:\n",
    "#     products_dict[product_name][short_description] = product_details\n",
    "products_dict[\"shaa\"]=\"ddassasd\"\n",
    "products_dict[\"aloso\"]=\"sasgfds\"\n",
    "file_path = \"test.json\"\n",
    "update_json_product_name_file(file_path,products_dict)     \n",
    "   "
   ]
  },
  {
   "cell_type": "code",
   "execution_count": 1,
   "metadata": {},
   "outputs": [
    {
     "name": "stdout",
     "output_type": "stream",
     "text": [
      "{'110474': \"Viktor Men's Pendant\", '85796': \"Women's Earring Louisa\", '99316': 'Wedding Ring Sense Muse 4 mm', '95519': 'GLAMIRA Ring Griseus', '100034': 'Dames Hanger Elise', '110391': \"Bobbie men's pendant\", '100016': 'GLAMIRA Ring Reyneke', '110645': 'Titina Engagement Ring 1.0 crt', '90273': 'GLAMIRA Prsten Harriet', '89454': 'GLAMIRA Ring Pamela', '90166': \"Cecily's Engagement Ring\", '97845': 'Alonnisos Engagement Ring', '90736': 'Engagement rings Gratia', '98083': 'Alliance pour femme White Innocence 4 mm', '92003': 'Ladies pendant Pearly', '84781': 'GLAMIRA Ring Stella', '107889': 'Ehering Exotic Dream 4 mm', '103302': 'Engagement ring Ebony', '84831': 'Allison Engagement Ring', '90744': 'Belva Engagement Ring', '102558': 'GLAMIRA Evelina Ring', '104166': 'Glamira Caridad Ring', '103126': 'Engagement ring Ebba', '92367': 'Engagement Ring Roselina 1.0 crt', '110584': \"Women's Corliss Earring\", '109432': 'GLAMIRA Call Jensine', '102107': \"Children's bracelet Fabiolita\", '92485': \"Women's Necklace Elsie\", '96566': \"Men's wedding ring Bright Love 6 mm\", '92278': 'Engagement Ring Anni', '95199': 'Engagement Ring Amanda 2.0crt', '92370': 'Engagement Ring Sadie', '101872': 'GLAMIRA Ring Mauriya', '96459': 'Engagement Ring Cadence', '96448': 'GLAMIRA Sunita Ring', '84838': 'Engagement Ring Saphira', '98252': 'Agrippina Engagement Ring', '96530': 'Wedding Rings Bright Nature 2 mm', '92291': 'Engagement Ring Brianna', '101312': \"Aljerino Men's Ring\", '96616': 'Cannoli Engagement Ring', '98262': 'Engagement Ring Bona', '96954': 'Wedding ring Exotic Milkway 6mm', '103958': \"Women's pendant Sinobia\", '91064': 'Engagement ring Alfrida 0.5 crt', '103149': 'Malgosia engagement ring', '108850': 'Shining Fortune 8 mm', '98369': \"Loredana women's ring\", '102484': 'Dames Armband Tanel', '84879': 'Engagement ring Amalia', '110387': \"Men's Pendant Balfour\", '89602': \"Men's Ring No Rush\", '89592': \"Cool Breeze Men's Ring\", '84776': 'Engagement Ring Jessica', '106239': 'Strong Love Wedding Ring 5 mm', '98787': \"Men's Wedding Ring Pure Love 6 mm\", '103337': 'Engagement ring Naola', '90419': \"Women's Pendant Despina\", '109652': \"Women's necklace Harvey\", '102106': \"Children's bracelet Ezira\", '99682': \"Women's Wedding Ring Exotic Birth\", '101332': 'Herrenring Fernando', '93240': 'Classic Glow 2.5 mm', '102509': 'Engagement ring Oiffe', '96049': 'Damen trauring Alluring Spring 4 mm', '103352': 'Glamira Ring Noble', '89607': \"Ramses Men's Ring\", '90475': \"Men's Wedding Ring Celtic Way\", '91040': 'Engagement ring Joy 0.5crt', '92275': 'Engagement ring Amay 0.2 crt', '100932': 'Glamira Armband Cherise', '85809': 'Ladies pendant Maria', '90183': 'Glamira Initials Pendant G', '109726': 'Charming Infinite 8 mm', '90940': 'Engagement ring Bridal Rise 0.5crt', '84883': 'Engagement Ring Madeleine', '89436': 'GLAMIRA Ring Patricia', '101868': 'GLAMIRA Ring Jordana', '103324': 'Engagement Ring Zanyria', '92405': 'Ladies earring Alessandra', '103508': 'GLAMIRA Ring Vontasia', '98357': \"Dorotea women's ring\", '110444': \"Milan men's pendant\", '89601': 'Herrenring Magical Day', '91046': 'Engagement Ring Abella 0.16 crt', '80297': 'Wedding Ring Smart Ease', '110020': 'GLAMIRA Ring Orina', '92397': 'Engagement ring Fleta', '104183': 'Glamira Bague Maxima', '102065': \"Women's Necklace Lamyra\", '95760': 'Trouwring Heavenly Tender 5mm', '98080': 'White Innocence 4mm Wedding Ring', '84792': \"Men's Ring Hercules\", '104040': \"Hanzila women's earrings\", '99558': \"Kmetov men's earring\", '94244': \"Men's Wedding Ring Classic 4mm\", '110002': 'Engagement Ring Aithen', '102504': 'GLAMIRA Ring Tamriel', '103939': \"Mayzelle Women's Pendant\", '110561': 'Engagement Ring Bona 2.0 crt', '84859': 'Engagement Ring Daisy', '96047': 'Ehering Alluring Spring 4 mm', '108732': 'Glamira Ring Aurkene', '80315': 'Wedding Ring Smart Queen', '95560': 'GLAMIRA Green Ring', '92307': 'Effie engagement ring', '105081': \"Men's wedding ring Noble Shape 4 mm\", '98154': 'Wedding Ring Unique Promise 4 mm', '92735': 'Kvindes ring Classic Expression 2.5 mm', '100982': 'Glamira Armband Andreya', '110381': 'GLAMIRA Horoscope Pendant Taurus', '84806': 'GLAMIRA Rosalie Ring', '93360': 'Ladies wedding ring Classic Flower 5 mm', '98811': 'Wedding Ring Charming Glow 5 mm', '92443': \"Women's Earring Peyton\", '89431': 'Engagement ring Tina', '96557': \"Men's Wedding Ring Bright Love 5 mm\", '108765': 'Bayamine Engagement Ring 1.0 crt', '90393': 'Faust engagement ring', '98234': 'Unique Joy Wedding Ring 5mm', '90657': \"Gracious Pride Women's Ring\", '92389': 'Aldea engagement ring', '99784': 'Dames Armband Inari', '84871': 'Engagement Ring Victoria', '104577': \"Men's earrings Donatien\", '97868': 'Marinella engagement ring', '90742': 'Glamira Ring Gaby', '84843': 'Engagement Ring Ashley', '99991': 'Mabule Engagement Ring', '93576': \"Men's Wedding Ring Classic Search\", '99688': \"Men's Wedding Ring Alluring Ground 6 mm\", '90474': 'Trauring Celtic Way', '80272': 'Brilliant Sunset Wedding Ring', '90186': 'Glamira Initials Pendant J', '92325': 'Engagement Ring Jemma 0.5 crt', '110559': 'Engagement Ring Berdina 0.5 crt', '110558': 'Engagement rings Berangaria 1.0 crt', '96592': \"Women's ring Simone\", '96688': 'Glamira Inel Zivot', '104031': \"Liviu men's ring\", '98370': 'Ladies Brass Bracelet', '110562': 'Engagement Ring Bona 3.0 crt', '99638': 'Trauring Mystic Winter', '110524': 'Lea’s Engagement Ring', '110463': \"Sean Men's Pendant\", '101334': \"Telvis Men's Ring\", '95339': 'Alliance pour homme Heavenly Sparkle 5mm', '110637': \"Women's ring Onella 0.5 crt\", '110413': \"Men's pendant Jaxton\", '109547': 'Earrings Lady Antwan', '90717': 'GLAMIRA Ring Venice', '98246': \"Titina's engagement ring\", '110497': 'Engagement ring Denisa', '93305': 'Classic Search 7mm', '97970': 'Wedding Ring Natural Sensation 4 mm', '91771': 'GLAMIRA Ring Sarita Ø10 mm', '98785': \"Men's wedding ring Pure Love 4 mm\", '91250': 'Steely Dream', '97916': 'Ladies necklace Sipura', '100314': \"Women's Wedding Ring Happiness Drops 5 mm\", '101101': \"Golden Heart Couple's Ring 4 mm\", '93579': 'Herrenring Classic Search 9mm', '101778': \"Couple's Promise Ring Magnetic Style\", '102108': \"Children's bracelet Falcila\", '91896': \"Women's Pendant Elbertina Ø10 mm\", '109427': 'Casonia engagement ring', '108727': \"Hadria women's pendant\", '97833': 'Engagement ring Skopleos', '110008': 'GLAMIRA Britta ring', '96532': \"Women's wedding ring Bright Nature 2 mm\", '92808': 'Wedding Ring Classic Choice 5 mm', '110218': \"Aide Women's Bracelet\", '95536': 'Engagement ring Nettle', '99993': 'Engagement Ring Mangabel', '96670': 'Engagement Ring Tartufa', '109581': 'Engagement Ring Sivania', '110556': 'Gervasia Engagement Ring 3.0 crt', '91000': 'Leona Engagement Ring 0.16 crt', '99386': \"Women's Wedding Ring Infinite Sweet 5 mm\", '104038': \"Women's Earring Hanellie\", '109879': 'Kabena 0.5 crt trust ring', '98411': 'GLAMIRA Ring Aello', '98852': 'Wedding Ring Alluring Duty 4 mm', '98671': 'Wedding Ring Pure Love 4 mm', '101763': \"Couple's Promise Ring Silver Sky\", '101974': 'GLAMIRA Ring Rodines', '92381': 'Verlobungsring Sydney 0.8 crt', '105077': 'Damenring Noble Shape 8 mm', '92481': 'Ladies Hanger Clarimond', '89425': \"Natalie's Engagement Ring\", '102717': 'Kinnadie Lady Earrings', '92327': 'Jemma Engagement Ring 1.0crt', '98375': \"Women's Chomac Bracelet\", '96439': 'Engagement Ring Eglontina', '101323': \"Baynard Men's Ring\", '95572': 'Alluring Star 3 mm', '80263': 'Brilliant Dawn Wedding Ring', '110041': \"The ladies' necklace Dalene\", '90759': 'Neveda Engagement Ring', '92790': 'Wedding Ring Classic Choice 3 mm', '98087': 'Wedding ring White Innocence 5 mm', '92184': 'Daffney engagement ring', '92363': 'Glamira Monalisa Ring', '101751': \"Couple's Promise Ring Eternal Love\", '110560': 'Engagement Ring Bona 1.0 crt', '105075': 'Damen trauring Noble Shape 6 mm', '109829': 'Ladies necklace Jabril', '92983': 'Rings for women Classic Legend 2mm', '102817': \"Leyonna women's pendant Ø6 mm\", '84786': 'GLAMIRA Ring Olivia', '86703': 'Bridal Heart engagement ring', '98759': \"Men's Wedding Ring Shining Moon 4 mm\", '111200': 'Trauring Confident Connection 6 mm', '99384': 'Damenring Infinite Sweet 3 mm', '103338': 'Engagement ring Nakomis', '92183': 'Engagement Ring Daffney 0.16 crt', '96936': 'Exotic Cross 8mm', '85797': \"Melissa women's earring\", '110628': 'Engagement Ring Cindy 1.0 crt', '103058': \"Women's Anklet Yaricelly\", '96627': 'GLAMIRA Inel Elsa', '99485': 'Herrenring Infinite Sweet 3 mm', '92292': 'Engagement Ring Brianna 0.1 crt', '90203': 'Glamira Initials Anillo J', '110649': 'GLAMIRA Noelia Bag', '92225': 'Engagement ring Tibelda', '108963': 'Essential Dream 10 mm', '103503': 'Glamira Ring Sophronia', '99283': 'Infinite Sweet 3 mm', '92796': 'Classic Choice 4mm Wedding Band', '95771': \"Women's ring Heavenly Dream 3mm\", '110646': 'Engagement ring Titina 2.0 crt', '91153': 'Glamira Cross Pendant Levite', '96674': 'Vesa Engagement Ring', '101327': 'Herrenring Brainard', '108769': 'Ladies Ring Dorotea 0.5 crt', '89526': \"The woman's earring Nicky\", '91028': 'Engagement ring Jade 0.5crt', '97825': 'Alabate Engagement Ring', '89433': 'Engagement Ring Nicole', '92372': 'Sadie Engagement Ring 1.0 crt', '109568': 'Engagement rings Minivera', '91077': 'Belva engagement ring 0.16 crt', '95474': \"Silverio Men's Ring\", '99421': 'Rings for women Sense Muse 10 mm', '109494': 'Ladies pendant Lisa', '103472': 'Glamira Anello Eilah', '95830': 'Charming Fate Wedding Ring', '97112': 'Trauring White Drop', '92080': 'Ladies pendant Queen', '96548': \"Men's Wedding Ring Bright Love 4 mm\", '109718': 'Ladies earring Glenn', '109572': 'Engagement Ring Nichele', '98401': \"Peratra Women's Bracelet\", '97850': 'Engagement Ring Salamis', '89593': \"Final Round Men's Ring\", '99549': \"Men's Botulf earrings\", '90814': 'Glamira Brudset Grande Ring B', '101988': 'GLAMIRA Lonesha ring', '104413': \"The man's ring Denis\", '98414': 'GLAMIRA Ring Assaroe', '106774': 'Immortal Chic 4mm Wedding Ring', '98267': \"Women's Ring Linderoth\", '103162': 'Verlobungsring Mayetta', '98976': \"Women's Wedding Ring Alluring Effect 4 mm\", '109914': \"Sayda women's pendant\", '89508': 'Gemelo Inspiring Whisper', '92394': 'GLAMIRA Ring Emmy', '105070': 'Damen trauring Noble Shape 4 mm', '90269': \"Katherine's engagement ring\", '109486': 'Ladies pendant Ingelas', '103332': 'Sarolta engagement ring', '93206': \"Classic Day 7mm Women's Ring\", '97813': 'GLAMIRA Ring Alula', '89599': \"Men's Ring Heroic\", '109555': \"Gulfiya women's earring\", '89566': 'Ladies necklace Pansy', '93084': 'Classic Inspiration 3mm', '96103': \"Women's Wedding Ring Alluring Breath 4 mm\", '101119': 'Sensual  Line 8 mm', '96672': 'Torrone engagement ring', '102094': \"Children's bracelets Etolia\", '90735': 'Engagement Ring Helios', '92504': \"Olga Women's Pendant\", '98338': 'Glamira Anel Annarasa', '99522': 'Rings for men Sense Muse 10 mm', '95225': 'Engagement Ring Ellie 2.0 crt', '89571': 'Ladies necklace Kinsey', '99044': 'Attractive Sky 4mm Wedding Ring', '105066': 'Damenring Noble Shape 3 mm', '101362': \"Trebian men's ring\", '92311': 'Verlobungsring Effie 0.16 crt', '105898': 'Wedding ring Universe Adore 5 mm', '89610': \"Sporty Men's Ring\", '110563': 'Engagement Ring Bridal Passion 1.0 crt', '101102': 'Golden Heart 5mm Wedding Ring', '89464': 'GLAMIRA Ring Rachel', '92075': \"Women's pendant Vinny Ø6 mm\", '90784': 'Bridal Set Gemmiferous', '97816': 'Engagement Ring Kabena', '98363': 'Engagement In Galilee', '100359': \"Women's Wedding Ring Wondrous Embroidery 5 mm\", '99242': 'Infinite Beauty 3 mm', '101802': 'Silver Couple Promise Ring', '90596': \"Pretty Secret Men's Wedding Ring\", '100119': \"Women's Tenvir Earring\", '98670': 'Wedding ring Pure Love 3 mm', '93297': 'Classic Search 3mm', '101346': \"Men's Ring Undrais\", '105418': 'Trauring Romantic Trust 4 mm', '90834': 'Engagement Ring Alina 0.16 crt', '93202': 'Classic Day 7 mm', '91042': 'Engagement ring Joy 1.0 crt', '90561': 'Immortal Wish Wedding Ring', '110565': 'Engagement Ring Galilea 0.5 crt', '90933': 'Engagement Ring Bridal Passion 0.5 crt', '99567': \"Men's Earring Yorath\", '91035': 'Engagement ring Joy 0.07 crt', '90881': 'Engagement ring Bridal Dream 0.16crt', '90773': 'GLAMIRA Bridal Set Crinkly Ring B', '110636': 'Ring of Noivado Neveda 1.6 crt', '104774': 'Wedding Ring Sense Beauty 5 mm', '102542': 'Kette Diamond Cut Spike 40 micron'}\n"
     ]
    }
   ],
   "source": [
    "import json\n",
    "\n",
    "# Đường dẫn tới file JSON\n",
    "file_path = 'json_product_name.json'\n",
    "\n",
    "# Đọc nội dung của file JSON\n",
    "with open(file_path, 'r', encoding='utf-8') as file:\n",
    "    data = json.load(file)\n",
    "\n",
    "# Biến 'data' bây giờ chứa dữ liệu từ file JSON\n",
    "print(data)"
   ]
  }
 ],
 "metadata": {
  "kernelspec": {
   "display_name": "my_venv",
   "language": "python",
   "name": "python3"
  },
  "language_info": {
   "codemirror_mode": {
    "name": "ipython",
    "version": 3
   },
   "file_extension": ".py",
   "mimetype": "text/x-python",
   "name": "python",
   "nbconvert_exporter": "python",
   "pygments_lexer": "ipython3",
   "version": "3.12.3"
  }
 },
 "nbformat": 4,
 "nbformat_minor": 2
}
