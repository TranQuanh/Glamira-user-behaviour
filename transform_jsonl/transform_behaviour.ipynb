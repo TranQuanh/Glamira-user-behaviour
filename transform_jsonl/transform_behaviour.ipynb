{
 "cells": [
  {
   "cell_type": "code",
   "execution_count": 27,
   "metadata": {},
   "outputs": [],
   "source": [
    "import collection.connect_mongodb as connect_mongodb\n",
    "import pymongo\n",
    "import json"
   ]
  },
  {
   "cell_type": "code",
   "execution_count": 23,
   "metadata": {},
   "outputs": [
    {
     "name": "stdout",
     "output_type": "stream",
     "text": [
      "{'_id': ObjectId('5ed8cb2bc671fc36b74653ad'), 'time_stamp': 1591266092, 'ip': '37.170.17.183', 'user_agent': 'Mozilla/5.0 (iPhone; CPU iPhone OS 13_4_1 like Mac OS X) AppleWebKit/605.1.15 (KHTML, like Gecko) Version/13.1 Mobile/15E148 Safari/604.1', 'resolution': '375x667', 'user_id_db': '502567', 'device_id': 'beb2cacb-20af-4f05-9c03-c98e54a1b71a', 'api_version': '1.0', 'store_id': '12', 'local_time': '2020-06-04 12:21:27', 'show_recommendation': 'false', 'current_url': 'https://www.glamira.fr/glamira-pendant-viktor.html?alloy=yellow-375', 'referrer_url': 'https://www.glamira.fr/men-s-necklaces/', 'email_address': 'pereira.vivien@yahoo.fr', 'recommendation': False, 'utm_source': False, 'utm_medium': False, 'collection': 'view_product_detail', 'product_id': '110474', 'option': [{'option_label': 'alloy', 'option_id': '332084', 'value_label': '', 'value_id': '3279318'}, {'option_label': 'diamond', 'option_id': '', 'value_label': '', 'value_id': ''}]}\n"
     ]
    }
   ],
   "source": [
    "collection =connect_mongodb.connect_db()\n",
    "output_file_path = \"behaviour.jsonl\"\n",
    "documents = collection.find({})\n",
    "# print(json.dumps(documents))\n"
   ]
  },
  {
   "cell_type": "code",
   "execution_count": 26,
   "metadata": {},
   "outputs": [],
   "source": [
    "doc=0\n",
    "for document in documents:\n",
    "    doc+=1\n",
    "    print(doc)\n",
    "    document['_id'] = str(document.get('_id'))\n",
    "    if 'cart_products' in document:\n",
    "        cart_products = document.get('cart_products')\n",
    "        for cart_product in cart_products:\n",
    "            option = cart_product.get('option')\n",
    "            if isinstance(option, str) and option == \"\":\n",
    "                cart_product['opiton'] = []\n",
    "    with open(output_file_path,'a',encoding='utf-8') as f:\n",
    "        f.write(json.dumps(document))\n",
    "        f.write('\\n')"
   ]
  }
 ],
 "metadata": {
  "kernelspec": {
   "display_name": "my_venv",
   "language": "python",
   "name": "python3"
  },
  "language_info": {
   "codemirror_mode": {
    "name": "ipython",
    "version": 3
   },
   "file_extension": ".py",
   "mimetype": "text/x-python",
   "name": "python",
   "nbconvert_exporter": "python",
   "pygments_lexer": "ipython3",
   "version": "3.12.3"
  }
 },
 "nbformat": 4,
 "nbformat_minor": 2
}
